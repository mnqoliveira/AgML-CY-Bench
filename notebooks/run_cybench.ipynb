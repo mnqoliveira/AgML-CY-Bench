{
  "cells": [
    {
      "cell_type": "markdown",
      "metadata": {
        "id": "L6akp-8ZNp90"
      },
      "source": [
        "\n",
        "[![Open In Colab](https://colab.research.google.com/assets/colab-badge.svg)](https://colab.research.google.com/github/WUR-AI/AgML-CY-Bench/blob/main/notebooks/run_cybench.ipynb)\n",
        "\n",
        "## Install packages"
      ]
    },
    {
      "cell_type": "code",
      "execution_count": 1,
      "metadata": {
        "colab": {
          "base_uri": "https://localhost:8080/"
        },
        "collapsed": true,
        "id": "ByUMopTQNnYW",
        "outputId": "ffd6274d-f757-44fe-c08c-a6cf10d4a445"
      },
      "outputs": [
        {
          "output_type": "stream",
          "name": "stdout",
          "text": [
            "Cloning into 'AgML-CY-Bench'...\n",
            "remote: Enumerating objects: 5648, done.\u001b[K\n",
            "remote: Counting objects: 100% (782/782), done.\u001b[K\n",
            "remote: Compressing objects: 100% (261/261), done.\u001b[K\n",
            "remote: Total 5648 (delta 633), reused 526 (delta 521), pack-reused 4866 (from 3)\u001b[K\n",
            "Receiving objects: 100% (5648/5648), 83.06 MiB | 15.12 MiB/s, done.\n",
            "Resolving deltas: 100% (3322/3322), done.\n",
            "/content/AgML-CY-Bench\n",
            "\u001b[2K   \u001b[90m━━━━━━━━━━━━━━━━━━━━━━━━━━━━━━━━━━━━━━━━\u001b[0m \u001b[32m277.7/277.7 kB\u001b[0m \u001b[31m10.7 MB/s\u001b[0m eta \u001b[36m0:00:00\u001b[0m\n",
            "\u001b[2K   \u001b[90m━━━━━━━━━━━━━━━━━━━━━━━━━━━━━━━━━━━━━━━━\u001b[0m \u001b[32m331.2/331.2 kB\u001b[0m \u001b[31m16.4 MB/s\u001b[0m eta \u001b[36m0:00:00\u001b[0m\n",
            "\u001b[2K   \u001b[90m━━━━━━━━━━━━━━━━━━━━━━━━━━━━━━━━━━━━━━━━\u001b[0m \u001b[32m78.7/78.7 kB\u001b[0m \u001b[31m3.9 MB/s\u001b[0m eta \u001b[36m0:00:00\u001b[0m\n",
            "\u001b[2K   \u001b[90m━━━━━━━━━━━━━━━━━━━━━━━━━━━━━━━━━━━━━━━━\u001b[0m \u001b[32m1.0/1.0 MB\u001b[0m \u001b[31m37.2 MB/s\u001b[0m eta \u001b[36m0:00:00\u001b[0m\n",
            "\u001b[2K   \u001b[90m━━━━━━━━━━━━━━━━━━━━━━━━━━━━━━━━━━━━━━━━\u001b[0m \u001b[32m453.8/453.8 kB\u001b[0m \u001b[31m23.8 MB/s\u001b[0m eta \u001b[36m0:00:00\u001b[0m\n",
            "\u001b[2K   \u001b[90m━━━━━━━━━━━━━━━━━━━━━━━━━━━━━━━━━━━━━━━━\u001b[0m \u001b[32m53.3/53.3 kB\u001b[0m \u001b[31m3.4 MB/s\u001b[0m eta \u001b[36m0:00:00\u001b[0m\n",
            "\u001b[2K   \u001b[90m━━━━━━━━━━━━━━━━━━━━━━━━━━━━━━━━━━━━━━━━\u001b[0m \u001b[32m4.3/4.3 MB\u001b[0m \u001b[31m32.5 MB/s\u001b[0m eta \u001b[36m0:00:00\u001b[0m\n",
            "\u001b[2K   \u001b[90m━━━━━━━━━━━━━━━━━━━━━━━━━━━━━━━━━━━━━━━━\u001b[0m \u001b[32m469.0/469.0 kB\u001b[0m \u001b[31m27.9 MB/s\u001b[0m eta \u001b[36m0:00:00\u001b[0m\n",
            "\u001b[2K   \u001b[90m━━━━━━━━━━━━━━━━━━━━━━━━━━━━━━━━━━━━━━━━\u001b[0m \u001b[32m3.1/3.1 MB\u001b[0m \u001b[31m61.5 MB/s\u001b[0m eta \u001b[36m0:00:00\u001b[0m\n",
            "\u001b[?25h"
          ]
        }
      ],
      "source": [
        "#clone the repository\n",
        "!git clone https://github.com/WUR-AI/AgML-CY-Bench.git\n",
        "#change directory\n",
        "%cd AgML-CY-Bench\n",
        "#install poetry if needed.\n",
        "!pip install -qqq poetry\n",
        "#install; this step may take 5 minutes\n",
        "!poetry install --quiet"
      ]
    },
    {
      "cell_type": "markdown",
      "metadata": {
        "id": "OhHCi-ihNwfy"
      },
      "source": [
        "## Download data"
      ]
    },
    {
      "cell_type": "code",
      "execution_count": 2,
      "metadata": {
        "collapsed": true,
        "id": "5eohyJsWNysL"
      },
      "outputs": [],
      "source": [
        "!git clone -q https://github.com/WUR-AI/sample_data.git '/content/AgML-CY-Bench/cybench/data'"
      ]
    },
    {
      "cell_type": "markdown",
      "metadata": {
        "id": "NOLp8ZzVNzIl"
      },
      "source": [
        "## Run benchmark"
      ]
    },
    {
      "cell_type": "code",
      "execution_count": 9,
      "metadata": {
        "id": "cuCVXpqP7nO7",
        "colab": {
          "base_uri": "https://localhost:8080/"
        },
        "outputId": "a29d53f7-a240-458e-cc6a-1b93c5c22bc8"
      },
      "outputs": [
        {
          "output_type": "stream",
          "name": "stdout",
          "text": [
            "BaselineLSTM: 100% 40/40 [00:01<00:00, 31.61it/s]\n",
            "BaselineLSTM: 100% 40/40 [00:01<00:00, 27.82it/s]\n",
            "BaselineLSTM: 100% 40/40 [00:00<00:00, 41.82it/s]\n",
            "BaselineLSTM: 100% 40/40 [00:00<00:00, 42.06it/s]\n",
            "BaselineLSTM: 100% 40/40 [00:01<00:00, 33.90it/s]\n",
            "BaselineLSTM: 100% 40/40 [00:00<00:00, 41.13it/s]\n",
            "BaselineLSTM: 100% 40/40 [00:01<00:00, 31.85it/s]\n",
            "BaselineLSTM: 100% 40/40 [00:00<00:00, 41.57it/s]\n",
            "BaselineLSTM: 100% 40/40 [00:01<00:00, 39.12it/s]\n",
            "BaselineLSTM: 100% 40/40 [00:00<00:00, 40.31it/s]\n",
            "BaselineLSTM: 100% 40/40 [00:00<00:00, 40.32it/s]\n",
            "BaselineLSTM: 100% 40/40 [00:01<00:00, 28.85it/s]\n",
            "BaselineLSTM: 100% 40/40 [00:00<00:00, 40.40it/s]\n",
            "BaselineLSTM: 100% 40/40 [00:00<00:00, 40.54it/s]\n",
            "BaselineLSTM: 100% 40/40 [00:00<00:00, 40.41it/s]\n",
            "BaselineLSTM: 100% 40/40 [00:00<00:00, 40.27it/s]\n",
            "BaselineLSTM: 100% 40/40 [00:01<00:00, 29.33it/s]\n",
            "BaselineLSTM: 100% 40/40 [00:00<00:00, 41.19it/s]\n",
            "BaselineLSTM: 100% 40/40 [00:00<00:00, 40.10it/s]\n",
            "BaselineLSTM: 100% 40/40 [00:00<00:00, 40.45it/s]\n",
            "BaselineLSTM: 100% 40/40 [00:00<00:00, 41.19it/s]\n",
            "BaselineLSTM: 100% 40/40 [00:01<00:00, 28.44it/s]\n",
            "BaselineLSTM: 100% 40/40 [00:00<00:00, 40.45it/s]\n",
            "BaselineLSTM: 100% 40/40 [00:00<00:00, 40.64it/s]\n",
            "BaselineLSTM: 100% 40/40 [00:00<00:00, 40.49it/s]\n",
            "BaselineLSTM: 100% 40/40 [00:01<00:00, 39.96it/s]\n",
            "                   normalized_rmse      mape          r2\n",
            "model                                                   \n",
            "AverageYieldModel        15.315272  0.138884   -2.030467\n",
            "LSTM                    100.091358  0.991383 -243.015794\n",
            "LSTMRes                  16.191486  0.146055   -2.724063\n",
            "LinearTrend              16.000073  0.145394   -2.473489\n",
            "RidgeRes                 23.360458  0.218502  -19.043428\n",
            "SklearnRidge             17.881163  0.167523   -4.070910\n"
          ]
        }
      ],
      "source": [
        "!MPLBACKEND=agg poetry run python cybench/runs/run_benchmark.py -d maize_NL -m test"
      ]
    }
  ],
  "metadata": {
    "colab": {
      "provenance": []
    },
    "kernelspec": {
      "display_name": "Python 3",
      "name": "python3"
    },
    "language_info": {
      "name": "python"
    }
  },
  "nbformat": 4,
  "nbformat_minor": 0
}